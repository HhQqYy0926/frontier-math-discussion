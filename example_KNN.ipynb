{
 "cells": [
  {
   "cell_type": "markdown",
   "metadata": {},
   "source": [
    "# 机器学习问题实例——使用K-近邻解决分类问题"
   ]
  },
  {
   "cell_type": "code",
   "execution_count": 37,
   "metadata": {},
   "outputs": [
    {
     "name": "stdout",
     "output_type": "stream",
     "text": [
      "The watermark extension is already loaded. To reload it, use:\n",
      "  %reload_ext watermark\n",
      "Author: Sebastian Raschka\n",
      "\n",
      "Last updated: 2023-10-22\n",
      "\n",
      "numpy     : 1.26.0\n",
      "pandas    : 2.1.1\n",
      "matplotlib: 3.8.0\n",
      "sklearn   : 1.3.1\n",
      "\n"
     ]
    }
   ],
   "source": [
    "%load_ext watermark\n",
    "%watermark -a \"Sebastian Raschka\" -u -d -p numpy,pandas,matplotlib,sklearn\n",
    "from IPython.display import Image\n",
    "%matplotlib inline"
   ]
  },
  {
   "cell_type": "code",
   "execution_count": 38,
   "metadata": {},
   "outputs": [],
   "source": [
    "from sklearn import datasets\n",
    "import numpy as np\n",
    "from matplotlib import pyplot as plt\n",
    "\n",
    "digits = datasets.load_digits()\n",
    "X = digits.data[:200, :]\n",
    "y = digits.target[:200]"
   ]
  },
  {
   "cell_type": "markdown",
   "metadata": {},
   "source": [
    "### 得到数据集\n",
    "\n",
    "将数据集划为70%作为训练集，30%划分为测试集。其中test_size控制的划分比例，random_state=1，则保证每次随机结果一致；stratify保证训练集和测试集中不同类别的数据占比一致"
   ]
  },
  {
   "cell_type": "code",
   "execution_count": 7,
   "metadata": {},
   "outputs": [],
   "source": [
    "from sklearn.model_selection import train_test_split\n",
    "\n",
    "X_train, X_test, y_train, y_test = train_test_split(\n",
    "    X, y, test_size=0.3, random_state=1, stratify=y)"
   ]
  },
  {
   "cell_type": "markdown",
   "metadata": {},
   "source": [
    "### 标准化并简单的可视化"
   ]
  },
  {
   "cell_type": "code",
   "execution_count": 35,
   "metadata": {},
   "outputs": [
    {
     "data": {
      "image/png": "[encoded data removed]",
      "text/plain": [
       "<Figure size 1000x8000 with 1 Axes>"
      ]
     },
     "metadata": {},
     "output_type": "display_data"
    }
   ],
   "source": [
    "from sklearn.preprocessing import StandardScaler\n",
    "\n",
    "sc = StandardScaler()\n",
    "sc.fit(X_train)\n",
    "X_train_std = sc.transform(X_train)\n",
    "X_test_std = sc.transform(X_test)\n",
    "X_sample = np.hstack([X[i].reshape(8, 8) for i in range(20)])\n",
    "plt.figure(figsize=(10,80))\n",
    "plt.imshow(X_sample, cmap=plt.cm.gray_r)\n",
    "plt.show()"
   ]
  },
  {
   "cell_type": "markdown",
   "metadata": {},
   "source": [
    "### 设置模型，策略，算法\n",
    "\n",
    "模型和算法为knn模型\n",
    "\n",
    "模型参数的具体方案很多，排列组合测试其效果（n_neighbors表示邻居数，p_list表示范数的参数，metric表示距离的度量方法）\n",
    "\n",
    "策略：损失函数为$\\frac{1}{N}\\Sigma_{i=1}^N [Y_i\\neq f(X_i)]$"
   ]
  },
  {
   "cell_type": "code",
   "execution_count": 27,
   "metadata": {},
   "outputs": [
    {
     "name": "stdout",
     "output_type": "stream",
     "text": [
      "Parameters: n_neighbors=3, p=1, metric=euclidean\n",
      "Testing accuracy: 0.967\n",
      "--------------------------------------\n",
      "Parameters: n_neighbors=3, p=1, metric=manhattan\n",
      "Testing accuracy: 0.967\n",
      "--------------------------------------\n",
      "Parameters: n_neighbors=3, p=2, metric=euclidean\n",
      "Testing accuracy: 0.967\n",
      "--------------------------------------\n",
      "Parameters: n_neighbors=3, p=2, metric=manhattan\n",
      "Testing accuracy: 0.967\n",
      "--------------------------------------\n",
      "Parameters: n_neighbors=5, p=1, metric=euclidean\n",
      "Testing accuracy: 0.933\n",
      "--------------------------------------\n",
      "Parameters: n_neighbors=5, p=1, metric=manhattan\n",
      "Testing accuracy: 0.967\n",
      "--------------------------------------\n",
      "Parameters: n_neighbors=5, p=2, metric=euclidean\n",
      "Testing accuracy: 0.933\n",
      "--------------------------------------\n",
      "Parameters: n_neighbors=5, p=2, metric=manhattan\n",
      "Testing accuracy: 0.967\n",
      "--------------------------------------\n",
      "Parameters: n_neighbors=7, p=1, metric=euclidean\n",
      "Testing accuracy: 0.933\n",
      "--------------------------------------\n",
      "Parameters: n_neighbors=7, p=1, metric=manhattan\n",
      "Testing accuracy: 0.967\n",
      "--------------------------------------\n",
      "Parameters: n_neighbors=7, p=2, metric=euclidean\n",
      "Testing accuracy: 0.933\n",
      "--------------------------------------\n",
      "Parameters: n_neighbors=7, p=2, metric=manhattan\n",
      "Testing accuracy: 0.967\n",
      "--------------------------------------\n",
      "Best parameters: n_neighbors=3, p=1, metric=euclidean\n",
      "Best testing accuracy: 0.967\n"
     ]
    }
   ],
   "source": [
    "import numpy as np\n",
    "from sklearn.neighbors import KNeighborsClassifier\n",
    "from sklearn.metrics import accuracy_score\n",
    "\n",
    "# 定义不同参数的列表\n",
    "n_neighbors_list = [3, 5, 7]\n",
    "p_list = [1, 2]\n",
    "metric_list = ['euclidean', 'manhattan']\n",
    "\n",
    "best_accuracy = 0.0\n",
    "best_params = None\n",
    "\n",
    "# 循环测试不同参数组合\n",
    "for n_neighbors in n_neighbors_list:\n",
    "    for p in p_list:\n",
    "        for metric in metric_list:\n",
    "            knn = KNeighborsClassifier(n_neighbors=n_neighbors, p=p, metric=metric)\n",
    "            \n",
    "            # 模型训练\n",
    "            knn.fit(X_train_std, y_train)\n",
    "            \n",
    "            # 预测测试集\n",
    "            y_test_pre = knn.predict(X_test_std)\n",
    "            \n",
    "            # 计算准确率\n",
    "            test_accuracy = accuracy_score(y_test_pre, y_test)\n",
    "            \n",
    "            # 输出结果\n",
    "            print(\"Parameters: n_neighbors={}, p={}, metric={}\".format(n_neighbors, p, metric))\n",
    "            print(\"Testing accuracy: %.3f\" % test_accuracy)\n",
    "            print(\"--------------------------------------\")\n",
    "            \n",
    "            # 更新最佳参数组合\n",
    "            if test_accuracy > best_accuracy:\n",
    "                best_accuracy = test_accuracy\n",
    "                best_params = (n_neighbors, p, metric)\n",
    "\n",
    "# 输出最佳参数组合\n",
    "print(\"Best parameters: n_neighbors={}, p={}, metric={}\".format(best_params[0], best_params[1], best_params[2]))\n",
    "print(\"Best testing accuracy: %.3f\" % best_accuracy)"
   ]
  },
  {
   "cell_type": "markdown",
   "metadata": {},
   "source": [
    "### 利用模型对新数据进行分类"
   ]
  },
  {
   "cell_type": "code",
   "execution_count": 43,
   "metadata": {},
   "outputs": [
    {
     "name": "stdout",
     "output_type": "stream",
     "text": [
      "the predicted label of this sample is:4\n",
      "the real label of this sample is:4\n"
     ]
    },
    {
     "data": {
      "image/png": "[encoded data removed]",
      "text/plain": [
       "<Figure size 200x200 with 1 Axes>"
      ]
     },
     "metadata": {},
     "output_type": "display_data"
    }
   ],
   "source": [
    "knn = KNeighborsClassifier(n_neighbors=3, p=1, metric='euclidean')\n",
    "knn.fit(X_train_std, y_train)\n",
    "import random\n",
    "index = random.randint(0,60)\n",
    "digit_sample = np.expand_dims(X_test[index],0)\n",
    "plt.figure(figsize=(2,2))\n",
    "plt.imshow(digit_sample.reshape(8, 8), cmap=plt.cm.gray_r)\n",
    "digit_label = knn.predict(digit_sample)\n",
    "print(\"the predicted label of this sample is:%d\"%digit_label[0])\n",
    "print(\"the real label of this sample is:%d\"%y_test[index])"
   ]
  }
 ],
 "metadata": {
  "anaconda-cloud": {},
  "kernelspec": {
   "display_name": "Python 3 (ipykernel)",
   "language": "python",
   "name": "python3"
  },
  "language_info": {
   "codemirror_mode": {
    "name": "ipython",
    "version": 3
   },
   "file_extension": ".py",
   "mimetype": "text/x-python",
   "name": "python",
   "nbconvert_exporter": "python",
   "pygments_lexer": "ipython3",
   "version": "3.12.0"
  }
 },
 "nbformat": 4,
 "nbformat_minor": 4
}
